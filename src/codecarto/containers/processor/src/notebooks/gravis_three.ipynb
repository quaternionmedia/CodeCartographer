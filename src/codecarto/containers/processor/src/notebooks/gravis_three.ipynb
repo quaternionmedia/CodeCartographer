{
 "cells": [
  {
   "cell_type": "code",
   "execution_count": null,
   "metadata": {},
   "outputs": [],
   "source": [
    "%pip install gravis"
   ]
  },
  {
   "cell_type": "code",
   "execution_count": null,
   "metadata": {},
   "outputs": [],
   "source": [
    "import gravis as gv  \n",
    "\n",
    "gv.three(g, show_node_label=True, show_edge_label=True, use_edge_size_normalization=True)"
   ]
  }
 ],
 "metadata": {
  "language_info": {
   "name": "python"
  }
 },
 "nbformat": 4,
 "nbformat_minor": 2
}
