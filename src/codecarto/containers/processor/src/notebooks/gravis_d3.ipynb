{
 "cells": [
  {
   "cell_type": "code",
   "execution_count": null,
   "metadata": {},
   "outputs": [],
   "source": [
    "%pip install gravis"
   ]
  },
  {
   "cell_type": "code",
   "execution_count": null,
   "metadata": {},
   "outputs": [],
   "source": [
    "import gravis as gv\n",
    "\n",
    "from imp import release_lock \n",
    "\n",
    "gv.d3(g, node_size_normalization_max=30, zoom_factor=1.5, use_centering_force=False,\n",
    "      node_hover_neighborhood=True, links_force_strength=0.5, links_force_distance=55,\n",
    "      use_node_size_normalization=True, use_edge_size_normalization=True, layout_algorithm_active=False,\n",
    "      node_label_data_source='label', edge_label_data_source='label')"
   ]
  }
 ],
 "metadata": {
  "kernelspec": {
   "display_name": "venv",
   "language": "python",
   "name": "python3"
  },
  "language_info": {
   "codemirror_mode": {
    "name": "ipython",
    "version": 3
   },
   "file_extension": ".py",
   "mimetype": "text/x-python",
   "name": "python",
   "nbconvert_exporter": "python",
   "pygments_lexer": "ipython3",
   "version": "3.12.1"
  }
 },
 "nbformat": 4,
 "nbformat_minor": 2
}
