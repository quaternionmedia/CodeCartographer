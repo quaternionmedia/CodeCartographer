{
 "cells": [
  {
   "cell_type": "code",
   "execution_count": null,
   "metadata": {},
   "outputs": [],
   "source": [
    "%pip install gravis"
   ]
  },
  {
   "cell_type": "code",
   "execution_count": null,
   "metadata": {},
   "outputs": [],
   "source": [
    "import gravis as gv\n",
    "\n",
    "gv.d3(\n",
    "    data = g, \n",
    "    zoom_factor = 1.5, \n",
    "\n",
    "    node_size_factor = 1,\n",
    "    node_label_size_factor = 0.5,\n",
    "    node_hover_neighborhood = True, \n",
    "    use_node_size_normalization = True,\n",
    "    node_size_normalization_max = 30,  \n",
    "    node_label_data_source = 'label',  \n",
    "\n",
    "    links_force_strength = 0.5, \n",
    "    links_force_distance = 55,\n",
    "    edge_label_data_source = 'label',\n",
    "    use_edge_size_normalization = True,\n",
    "    \n",
    "    layout_algorithm_active = False,\n",
    "    use_centering_force = False, \n",
    ")"
   ]
  }
 ],
 "metadata": {
  "kernelspec": {
   "display_name": "venv",
   "language": "python",
   "name": "python3"
  },
  "language_info": {
   "codemirror_mode": {
    "name": "ipython",
    "version": 3
   },
   "file_extension": ".py",
   "mimetype": "text/x-python",
   "name": "python",
   "nbconvert_exporter": "python",
   "pygments_lexer": "ipython3",
   "version": "3.12.1"
  }
 },
 "nbformat": 4,
 "nbformat_minor": 2
}
